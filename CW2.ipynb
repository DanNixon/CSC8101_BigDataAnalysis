{
 "metadata": {
  "name": "",
  "signature": "sha256:ae0be602c6fe3993a5d769f8d22959b0e812511db72ccd6510d5c065e89dd77f"
 },
 "nbformat": 3,
 "nbformat_minor": 0,
 "worksheets": [
  {
   "cells": [
    {
     "cell_type": "heading",
     "level": 1,
     "metadata": {},
     "source": [
      "Task 1"
     ]
    },
    {
     "cell_type": "code",
     "collapsed": false,
     "input": [
      "netflix_raw_data = sc.textFile('/home/ubuntu/BigDataAnalysis/data/netflix_movie_titles.txt')\n",
      "canonical_raw_data = sc.textFile('/home/ubuntu/BigDataAnalysis/data/movie_titles_canonical.txt')\n",
      "\n",
      "import unicodedata\n",
      "\n",
      "def clean_title_string(title):\n",
      "    # Remove accents, symbols and whitespace and convert to lowercase\n",
      "    # (http://stackoverflow.com/questions/517923/what-is-the-best-way-to-remove-accents-in-a-python-unicode-string)\n",
      "    nfkd_form = unicodedata.normalize('NFKD', title)\n",
      "    return u\"\".join([c.lower() for c in nfkd_form if c.isalnum() and not unicodedata.combining(c)])\n",
      "\n",
      "def parse_netflix_data(row):\n",
      "    data = row.split(',')\n",
      "    \n",
      "    title = data[2].strip()\n",
      "    try:\n",
      "        year = int(data[1])\n",
      "    except:\n",
      "        year = 0\n",
      "        \n",
      "    return (year, title, clean_title_string(title), int(data[0])) # year, title, clean title, id\n",
      "    \n",
      "def parse_canonical_data(row):\n",
      "    data = row.rpartition(',')\n",
      "    \n",
      "    title = data[0].strip()\n",
      "    try:\n",
      "        year = int(data[2])\n",
      "    except:\n",
      "        year = 0\n",
      "        \n",
      "    return (year, (title, clean_title_string(title))) # year, (title, clean title)\n",
      "\n",
      "netflix_data = netflix_raw_data.map(parse_netflix_data)\n",
      "canonical_data = canonical_raw_data.map(parse_canonical_data)"
     ],
     "language": "python",
     "metadata": {},
     "outputs": [],
     "prompt_number": 37
    },
    {
     "cell_type": "code",
     "collapsed": false,
     "input": [
      "netflix_data.take(5)"
     ],
     "language": "python",
     "metadata": {},
     "outputs": [
      {
       "metadata": {},
       "output_type": "pyout",
       "prompt_number": 38,
       "text": [
        "[(2003, u'Dinosaur Planet', u'dinosaurplanet', 1),\n",
        " (2004, u'Isle of Man TT 2004 Review', u'isleofmantt2004review', 2),\n",
        " (1997, u'Character', u'character', 3),\n",
        " (1994, u\"Paula Abdul's Get Up & Dance\", u'paulaabdulsgetupdance', 4),\n",
        " (2004, u'The Rise and Fall of ECW', u'theriseandfallofecw', 5)]"
       ]
      }
     ],
     "prompt_number": 38
    },
    {
     "cell_type": "code",
     "collapsed": false,
     "input": [
      "canonical_data.take(5)"
     ],
     "language": "python",
     "metadata": {},
     "outputs": [
      {
       "metadata": {},
       "output_type": "pyout",
       "prompt_number": 39,
       "text": [
        "[(2009, (u'Avatar', u'avatar')),\n",
        " (2001, (u'Am\\xe9lie', u'amelie')),\n",
        " (1987, (u'Full Metal Jacket', u'fullmetaljacket')),\n",
        " (1982, (u'E.T.: The Extra-Terrestrial', u'ettheextraterrestrial')),\n",
        " (1996, (u'Independence Day', u'independenceday'))]"
       ]
      }
     ],
     "prompt_number": 39
    },
    {
     "cell_type": "code",
     "collapsed": false,
     "input": [
      "grouped = canonical_data.groupByKey()\n",
      "films_for_year = grouped.collectAsMap()\n",
      "print(\"Number of years: {}\".format(len(films_for_year)))\n",
      "\n",
      "#films_for_year[2007].data"
     ],
     "language": "python",
     "metadata": {},
     "outputs": [
      {
       "output_type": "stream",
       "stream": "stdout",
       "text": [
        "Number of years: 112\n"
       ]
      }
     ],
     "prompt_number": 40
    },
    {
     "cell_type": "code",
     "collapsed": false,
     "input": [
      "def find_netflix_alias(netflix_film):\n",
      "    title = netflix_film[1]\n",
      "    year = netflix_film[0]\n",
      "    if year in films_for_year:\n",
      "        title_results = [f for f in films_for_year[netflix_film[0]] if f[1] == netflix_film[2]]\n",
      "        if len(title_results) == 1:\n",
      "            title = title_results[0][0] \n",
      "    return (netflix_film[3], title)\n",
      "\n",
      "netflix_aliases = netflix_data.map(find_netflix_alias).filter(lambda f: f[1] is not None)\n",
      "print(\"Number of aliases: {}\".format(netflix_aliases.count()))\n",
      "\n",
      "netflix_aliases.take(10)"
     ],
     "language": "python",
     "metadata": {},
     "outputs": [
      {
       "output_type": "stream",
       "stream": "stdout",
       "text": [
        "Number of aliases: 17770\n"
       ]
      },
      {
       "metadata": {},
       "output_type": "pyout",
       "prompt_number": 47,
       "text": [
        "[(1, u'Dinosaur Planet'),\n",
        " (2, u'Isle of Man TT 2004 Review'),\n",
        " (3, u'Character'),\n",
        " (4, u\"Paula Abdul's Get Up & Dance\"),\n",
        " (5, u'The Rise and Fall of ECW'),\n",
        " (6, u'Sick'),\n",
        " (7, u'8 Man'),\n",
        " (8, u'What the #$*! Do We Know!?'),\n",
        " (9, u\"Class of Nuke 'Em High 2\"),\n",
        " (10, u'Fighter')]"
       ]
      }
     ],
     "prompt_number": 47
    },
    {
     "cell_type": "code",
     "collapsed": false,
     "input": [
      "aliases = netflix_aliases.collectAsMap()\n",
      "print(len(aliases))"
     ],
     "language": "python",
     "metadata": {},
     "outputs": [
      {
       "output_type": "stream",
       "stream": "stdout",
       "text": [
        "17770\n"
       ]
      }
     ],
     "prompt_number": 48
    },
    {
     "cell_type": "heading",
     "level": 1,
     "metadata": {},
     "source": [
      "Task 2"
     ]
    },
    {
     "cell_type": "code",
     "collapsed": false,
     "input": [
      "netflix_raw_ratings = sc.textFile('/home/ubuntu/BigDataAnalysis/data/mv_all_simple.txt')\n",
      "\n",
      "from pyspark.mllib.recommendation import Rating\n",
      "\n",
      "def parse_netflix_ratings(row):\n",
      "    data = row.split(',')\n",
      "    return Rating(int(data[1]), int(data[0]), int(data[2]))\n",
      "\n",
      "netflix_ratings = netflix_raw_ratings.map(parse_netflix_ratings)\n",
      "\n",
      "netflix_ratings.take(5)"
     ],
     "language": "python",
     "metadata": {},
     "outputs": [
      {
       "metadata": {},
       "output_type": "pyout",
       "prompt_number": 23,
       "text": [
        "[Rating(user=1488844, product=1, rating=3.0),\n",
        " Rating(user=822109, product=1, rating=5.0),\n",
        " Rating(user=885013, product=1, rating=4.0),\n",
        " Rating(user=30878, product=1, rating=4.0),\n",
        " Rating(user=823519, product=1, rating=3.0)]"
       ]
      }
     ],
     "prompt_number": 23
    },
    {
     "cell_type": "code",
     "collapsed": false,
     "input": [
      "training_set, testing_set = netflix_ratings.randomSplit(weights=[0.8, 0.2])"
     ],
     "language": "python",
     "metadata": {},
     "outputs": [],
     "prompt_number": 24
    },
    {
     "cell_type": "code",
     "collapsed": false,
     "input": [
      "training_set.take(5)"
     ],
     "language": "python",
     "metadata": {},
     "outputs": [
      {
       "metadata": {},
       "output_type": "pyout",
       "prompt_number": 25,
       "text": [
        "[Rating(user=1488844, product=1, rating=3.0),\n",
        " Rating(user=822109, product=1, rating=5.0),\n",
        " Rating(user=885013, product=1, rating=4.0),\n",
        " Rating(user=30878, product=1, rating=4.0),\n",
        " Rating(user=823519, product=1, rating=3.0)]"
       ]
      }
     ],
     "prompt_number": 25
    },
    {
     "cell_type": "code",
     "collapsed": false,
     "input": [
      "testing_set.take(5)"
     ],
     "language": "python",
     "metadata": {},
     "outputs": [
      {
       "metadata": {},
       "output_type": "pyout",
       "prompt_number": 26,
       "text": [
        "[Rating(user=124105, product=1, rating=4.0),\n",
        " Rating(user=2238063, product=1, rating=3.0),\n",
        " Rating(user=1181550, product=1, rating=3.0),\n",
        " Rating(user=808731, product=1, rating=4.0),\n",
        " Rating(user=1910569, product=1, rating=4.0)]"
       ]
      }
     ],
     "prompt_number": 26
    },
    {
     "cell_type": "code",
     "collapsed": false,
     "input": [
      "from pyspark.mllib.recommendation import ALS\n",
      "\n",
      "model = ALS.train(training_set, rank=10, iterations=5, lambda_=0.01)\n",
      "\n",
      "model"
     ],
     "language": "python",
     "metadata": {},
     "outputs": [
      {
       "metadata": {},
       "output_type": "pyout",
       "prompt_number": 27,
       "text": [
        "<pyspark.mllib.recommendation.MatrixFactorizationModel at 0x7f0bfd8af910>"
       ]
      }
     ],
     "prompt_number": 27
    },
    {
     "cell_type": "heading",
     "level": 1,
     "metadata": {},
     "source": [
      "Task 3"
     ]
    },
    {
     "cell_type": "code",
     "collapsed": false,
     "input": [
      "guinea_pig_user_id = 30878\n",
      "\n",
      "recommendations = model.recommendProducts(guinea_pig_user_id, 10)\n",
      "\n",
      "recommendations"
     ],
     "language": "python",
     "metadata": {},
     "outputs": [
      {
       "metadata": {},
       "output_type": "pyout",
       "prompt_number": 31,
       "text": [
        "[Rating(user=30878, product=6241, rating=4.880907417420207),\n",
        " Rating(user=30878, product=13478, rating=4.814858227423686),\n",
        " Rating(user=30878, product=8226, rating=4.790837736976454),\n",
        " Rating(user=30878, product=2057, rating=4.789925909573493),\n",
        " Rating(user=30878, product=5092, rating=4.78542136818776),\n",
        " Rating(user=30878, product=12937, rating=4.761991084845178),\n",
        " Rating(user=30878, product=14031, rating=4.750280677433696),\n",
        " Rating(user=30878, product=14806, rating=4.747301562267725),\n",
        " Rating(user=30878, product=663, rating=4.739243737951304),\n",
        " Rating(user=30878, product=12956, rating=4.731722491577802)]"
       ]
      }
     ],
     "prompt_number": 31
    },
    {
     "cell_type": "code",
     "collapsed": false,
     "input": [
      "def netflix_id_to_film_name(r):\n",
      "    return aliases[r.product] if r.product in aliases else \"\"\n",
      "\n",
      "recommended_films = map(netflix_id_to_film_name, recommendations)\n",
      "\n",
      "for f in recommended_films:\n",
      "    print f"
     ],
     "language": "python",
     "metadata": {},
     "outputs": [
      {
       "output_type": "stream",
       "stream": "stdout",
       "text": [
        "Operation \"Y\" and Other Shurik's Adventures\n",
        "Ivan Vasilievich: Back to the Future\n",
        "Buffy the Vampire Slayer: Season 5\n",
        "Buffy the Vampire Slayer: Season 6\n",
        "Buffy the Vampire Slayer: Season 2\n",
        "Buffy the Vampire Slayer: Season 4\n",
        "Buffy the Vampire Slayer: Season 7\n",
        "Angel: Season 3\n",
        "La Femme Nikita: Season 3\n",
        "Angel: Season 2\n"
       ]
      }
     ],
     "prompt_number": 49
    },
    {
     "cell_type": "code",
     "collapsed": false,
     "input": [],
     "language": "python",
     "metadata": {},
     "outputs": []
    }
   ],
   "metadata": {}
  }
 ]
}